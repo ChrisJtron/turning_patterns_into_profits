{
 "cells": [
  {
   "cell_type": "markdown",
   "metadata": {},
   "source": [
    "#     Flagship Sales\n",
    "###   Category 1-1 and 1-3 are increasing\n",
    "###   Category 1-4  declined last year\n",
    "###   2-1 increasing\n",
    "###   2-3 and 2-4 decreasing\n",
    "###   4-1  steady\n",
    "###   4-4 declining\n",
    "###   5-3 and 5-6 are fairly steady\n"
   ]
  },
  {
   "cell_type": "markdown",
   "metadata": {},
   "source": [
    "#     MBR Sales\n",
    "###   Seeing decline in overall sales\n",
    "###   4-4, 5-3, 5-10, 5-12, 6-11, 6-12  are seeing biggest losses\n",
    "###   2-4, 4-1, 5-6, 6-2  are seeing some increase"
   ]
  }
 ],
 "metadata": {
  "kernelspec": {
   "display_name": "Python 3",
   "language": "python",
   "name": "python3"
  },
  "language_info": {
   "codemirror_mode": {
    "name": "ipython",
    "version": 3
   },
   "file_extension": ".py",
   "mimetype": "text/x-python",
   "name": "python",
   "nbconvert_exporter": "python",
   "pygments_lexer": "ipython3",
   "version": "3.7.6"
  }
 },
 "nbformat": 4,
 "nbformat_minor": 4
}
