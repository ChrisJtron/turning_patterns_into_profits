{
 "cells": [
  {
   "cell_type": "code",
   "execution_count": 30,
   "metadata": {},
   "outputs": [],
   "source": [
    "import pandas as pd\n",
    "import numpy as np\n",
    "import matplotlib.pyplot as plt"
   ]
  },
  {
   "cell_type": "code",
   "execution_count": 31,
   "metadata": {},
   "outputs": [
    {
     "data": {
      "text/html": [
       "<div>\n",
       "<style scoped>\n",
       "    .dataframe tbody tr th:only-of-type {\n",
       "        vertical-align: middle;\n",
       "    }\n",
       "\n",
       "    .dataframe tbody tr th {\n",
       "        vertical-align: top;\n",
       "    }\n",
       "\n",
       "    .dataframe thead th {\n",
       "        text-align: right;\n",
       "    }\n",
       "</style>\n",
       "<table border=\"1\" class=\"dataframe\">\n",
       "  <thead>\n",
       "    <tr style=\"text-align: right;\">\n",
       "      <th></th>\n",
       "      <th>transaction_id</th>\n",
       "      <th>cust_id</th>\n",
       "      <th>DOB</th>\n",
       "      <th>Gender</th>\n",
       "      <th>city_code</th>\n",
       "      <th>tran_date</th>\n",
       "      <th>prod_subcat</th>\n",
       "      <th>prod_subcat_code</th>\n",
       "      <th>prod_cat</th>\n",
       "      <th>prod_cat_code</th>\n",
       "      <th>...</th>\n",
       "      <th>Rate</th>\n",
       "      <th>Tax</th>\n",
       "      <th>total_amt</th>\n",
       "      <th>Store_type</th>\n",
       "      <th>Unnamed: 15</th>\n",
       "      <th>Unnamed: 16</th>\n",
       "      <th>Unnamed: 17</th>\n",
       "      <th>Unnamed: 18</th>\n",
       "      <th>Unnamed: 19</th>\n",
       "      <th>Unnamed: 20</th>\n",
       "    </tr>\n",
       "  </thead>\n",
       "  <tbody>\n",
       "    <tr>\n",
       "      <th>0</th>\n",
       "      <td>80712190438</td>\n",
       "      <td>270351</td>\n",
       "      <td>09/26/81</td>\n",
       "      <td>M</td>\n",
       "      <td>5</td>\n",
       "      <td>2/28/2014</td>\n",
       "      <td>Women</td>\n",
       "      <td>1</td>\n",
       "      <td>Clothing</td>\n",
       "      <td>1</td>\n",
       "      <td>...</td>\n",
       "      <td>-772</td>\n",
       "      <td>405.300</td>\n",
       "      <td>-4265.300</td>\n",
       "      <td>e-Shop</td>\n",
       "      <td>NaN</td>\n",
       "      <td>NaN</td>\n",
       "      <td>NaN</td>\n",
       "      <td>NaN</td>\n",
       "      <td>NaN</td>\n",
       "      <td>NaN</td>\n",
       "    </tr>\n",
       "    <tr>\n",
       "      <th>1</th>\n",
       "      <td>29258453508</td>\n",
       "      <td>270384</td>\n",
       "      <td>11/05/73</td>\n",
       "      <td>F</td>\n",
       "      <td>8</td>\n",
       "      <td>2/27/2014</td>\n",
       "      <td>Computers</td>\n",
       "      <td>5</td>\n",
       "      <td>Electronics</td>\n",
       "      <td>3</td>\n",
       "      <td>...</td>\n",
       "      <td>-1497</td>\n",
       "      <td>785.925</td>\n",
       "      <td>-8270.925</td>\n",
       "      <td>e-Shop</td>\n",
       "      <td>NaN</td>\n",
       "      <td>NaN</td>\n",
       "      <td>NaN</td>\n",
       "      <td>NaN</td>\n",
       "      <td>NaN</td>\n",
       "      <td>NaN</td>\n",
       "    </tr>\n",
       "    <tr>\n",
       "      <th>2</th>\n",
       "      <td>51750724947</td>\n",
       "      <td>273420</td>\n",
       "      <td>07/27/92</td>\n",
       "      <td>M</td>\n",
       "      <td>8</td>\n",
       "      <td>2/24/2014</td>\n",
       "      <td>DIY</td>\n",
       "      <td>6</td>\n",
       "      <td>Books</td>\n",
       "      <td>5</td>\n",
       "      <td>...</td>\n",
       "      <td>-791</td>\n",
       "      <td>166.110</td>\n",
       "      <td>-1748.110</td>\n",
       "      <td>TeleShop</td>\n",
       "      <td>NaN</td>\n",
       "      <td>NaN</td>\n",
       "      <td>NaN</td>\n",
       "      <td>NaN</td>\n",
       "      <td>NaN</td>\n",
       "      <td>NaN</td>\n",
       "    </tr>\n",
       "    <tr>\n",
       "      <th>3</th>\n",
       "      <td>93274880719</td>\n",
       "      <td>271509</td>\n",
       "      <td>08/06/81</td>\n",
       "      <td>M</td>\n",
       "      <td>3</td>\n",
       "      <td>2/24/2014</td>\n",
       "      <td>Children</td>\n",
       "      <td>11</td>\n",
       "      <td>Home and kitchen</td>\n",
       "      <td>6</td>\n",
       "      <td>...</td>\n",
       "      <td>-1363</td>\n",
       "      <td>429.345</td>\n",
       "      <td>-4518.345</td>\n",
       "      <td>e-Shop</td>\n",
       "      <td>NaN</td>\n",
       "      <td>NaN</td>\n",
       "      <td>NaN</td>\n",
       "      <td>NaN</td>\n",
       "      <td>NaN</td>\n",
       "      <td>NaN</td>\n",
       "    </tr>\n",
       "    <tr>\n",
       "      <th>4</th>\n",
       "      <td>51750724947</td>\n",
       "      <td>273420</td>\n",
       "      <td>07/27/92</td>\n",
       "      <td>M</td>\n",
       "      <td>8</td>\n",
       "      <td>2/23/2014</td>\n",
       "      <td>DIY</td>\n",
       "      <td>6</td>\n",
       "      <td>Books</td>\n",
       "      <td>5</td>\n",
       "      <td>...</td>\n",
       "      <td>-791</td>\n",
       "      <td>166.110</td>\n",
       "      <td>-1748.110</td>\n",
       "      <td>TeleShop</td>\n",
       "      <td>NaN</td>\n",
       "      <td>NaN</td>\n",
       "      <td>NaN</td>\n",
       "      <td>NaN</td>\n",
       "      <td>NaN</td>\n",
       "      <td>NaN</td>\n",
       "    </tr>\n",
       "  </tbody>\n",
       "</table>\n",
       "<p>5 rows × 21 columns</p>\n",
       "</div>"
      ],
      "text/plain": [
       "   transaction_id  cust_id       DOB Gender  city_code  tran_date prod_subcat  \\\n",
       "0     80712190438   270351  09/26/81      M          5  2/28/2014       Women   \n",
       "1     29258453508   270384  11/05/73      F          8  2/27/2014   Computers   \n",
       "2     51750724947   273420  07/27/92      M          8  2/24/2014         DIY   \n",
       "3     93274880719   271509  08/06/81      M          3  2/24/2014    Children   \n",
       "4     51750724947   273420  07/27/92      M          8  2/23/2014         DIY   \n",
       "\n",
       "   prod_subcat_code          prod_cat  prod_cat_code  ...  Rate      Tax  \\\n",
       "0                 1          Clothing              1  ...  -772  405.300   \n",
       "1                 5       Electronics              3  ... -1497  785.925   \n",
       "2                 6             Books              5  ...  -791  166.110   \n",
       "3                11  Home and kitchen              6  ... -1363  429.345   \n",
       "4                 6             Books              5  ...  -791  166.110   \n",
       "\n",
       "   total_amt  Store_type Unnamed: 15  Unnamed: 16  Unnamed: 17  Unnamed: 18  \\\n",
       "0  -4265.300      e-Shop         NaN          NaN          NaN          NaN   \n",
       "1  -8270.925      e-Shop         NaN          NaN          NaN          NaN   \n",
       "2  -1748.110    TeleShop         NaN          NaN          NaN          NaN   \n",
       "3  -4518.345      e-Shop         NaN          NaN          NaN          NaN   \n",
       "4  -1748.110    TeleShop         NaN          NaN          NaN          NaN   \n",
       "\n",
       "   Unnamed: 19  Unnamed: 20  \n",
       "0          NaN          NaN  \n",
       "1          NaN          NaN  \n",
       "2          NaN          NaN  \n",
       "3          NaN          NaN  \n",
       "4          NaN          NaN  \n",
       "\n",
       "[5 rows x 21 columns]"
      ]
     },
     "execution_count": 31,
     "metadata": {},
     "output_type": "execute_result"
    }
   ],
   "source": [
    "data= pd.read_csv(\"../turning_patterns_into_profits/Data/Transactions_all_data.csv\")\n",
    "\n",
    "data.head()"
   ]
  },
  {
   "cell_type": "code",
   "execution_count": 32,
   "metadata": {},
   "outputs": [],
   "source": [
    "data.drop([\"Unnamed: 15\", \"Unnamed: 16\", \"Unnamed: 17\", \"Unnamed: 18\", \"Unnamed: 19\", \"Unnamed: 20\"], axis=1, inplace=True)"
   ]
  },
  {
   "cell_type": "code",
   "execution_count": 33,
   "metadata": {},
   "outputs": [],
   "source": [
    "import datetime\n",
    "\n",
    "month_list=[]\n",
    "year_list=[]\n",
    "mo_yr_list=[]\n",
    "\n",
    "for each_date in data['tran_date']:\n",
    "    date= datetime.datetime.strptime(str(each_date), \"%m/%d/%Y\")\n",
    "    month_list.append(date.month)\n",
    "    year_list.append(date.year)\n",
    "    mo_yr_list.append(f\"{date.month}/{date.year}\")"
   ]
  },
  {
   "cell_type": "code",
   "execution_count": 34,
   "metadata": {},
   "outputs": [
    {
     "data": {
      "text/html": [
       "<div>\n",
       "<style scoped>\n",
       "    .dataframe tbody tr th:only-of-type {\n",
       "        vertical-align: middle;\n",
       "    }\n",
       "\n",
       "    .dataframe tbody tr th {\n",
       "        vertical-align: top;\n",
       "    }\n",
       "\n",
       "    .dataframe thead th {\n",
       "        text-align: right;\n",
       "    }\n",
       "</style>\n",
       "<table border=\"1\" class=\"dataframe\">\n",
       "  <thead>\n",
       "    <tr style=\"text-align: right;\">\n",
       "      <th></th>\n",
       "      <th>transaction_id</th>\n",
       "      <th>cust_id</th>\n",
       "      <th>DOB</th>\n",
       "      <th>Gender</th>\n",
       "      <th>city_code</th>\n",
       "      <th>tran_date</th>\n",
       "      <th>prod_subcat</th>\n",
       "      <th>prod_subcat_code</th>\n",
       "      <th>prod_cat</th>\n",
       "      <th>prod_cat_code</th>\n",
       "      <th>Qty</th>\n",
       "      <th>Rate</th>\n",
       "      <th>Tax</th>\n",
       "      <th>total_amt</th>\n",
       "      <th>Store_type</th>\n",
       "      <th>transaction_month</th>\n",
       "      <th>transaction_year</th>\n",
       "      <th>transaction_MoYr</th>\n",
       "    </tr>\n",
       "  </thead>\n",
       "  <tbody>\n",
       "    <tr>\n",
       "      <th>0</th>\n",
       "      <td>80712190438</td>\n",
       "      <td>270351</td>\n",
       "      <td>09/26/81</td>\n",
       "      <td>M</td>\n",
       "      <td>5</td>\n",
       "      <td>2/28/2014</td>\n",
       "      <td>Women</td>\n",
       "      <td>1</td>\n",
       "      <td>Clothing</td>\n",
       "      <td>1</td>\n",
       "      <td>-5</td>\n",
       "      <td>-772</td>\n",
       "      <td>405.300</td>\n",
       "      <td>-4265.300</td>\n",
       "      <td>e-Shop</td>\n",
       "      <td>2</td>\n",
       "      <td>2014</td>\n",
       "      <td>2/2014</td>\n",
       "    </tr>\n",
       "    <tr>\n",
       "      <th>1</th>\n",
       "      <td>29258453508</td>\n",
       "      <td>270384</td>\n",
       "      <td>11/05/73</td>\n",
       "      <td>F</td>\n",
       "      <td>8</td>\n",
       "      <td>2/27/2014</td>\n",
       "      <td>Computers</td>\n",
       "      <td>5</td>\n",
       "      <td>Electronics</td>\n",
       "      <td>3</td>\n",
       "      <td>-5</td>\n",
       "      <td>-1497</td>\n",
       "      <td>785.925</td>\n",
       "      <td>-8270.925</td>\n",
       "      <td>e-Shop</td>\n",
       "      <td>2</td>\n",
       "      <td>2014</td>\n",
       "      <td>2/2014</td>\n",
       "    </tr>\n",
       "    <tr>\n",
       "      <th>2</th>\n",
       "      <td>51750724947</td>\n",
       "      <td>273420</td>\n",
       "      <td>07/27/92</td>\n",
       "      <td>M</td>\n",
       "      <td>8</td>\n",
       "      <td>2/24/2014</td>\n",
       "      <td>DIY</td>\n",
       "      <td>6</td>\n",
       "      <td>Books</td>\n",
       "      <td>5</td>\n",
       "      <td>-2</td>\n",
       "      <td>-791</td>\n",
       "      <td>166.110</td>\n",
       "      <td>-1748.110</td>\n",
       "      <td>TeleShop</td>\n",
       "      <td>2</td>\n",
       "      <td>2014</td>\n",
       "      <td>2/2014</td>\n",
       "    </tr>\n",
       "    <tr>\n",
       "      <th>3</th>\n",
       "      <td>93274880719</td>\n",
       "      <td>271509</td>\n",
       "      <td>08/06/81</td>\n",
       "      <td>M</td>\n",
       "      <td>3</td>\n",
       "      <td>2/24/2014</td>\n",
       "      <td>Children</td>\n",
       "      <td>11</td>\n",
       "      <td>Home and kitchen</td>\n",
       "      <td>6</td>\n",
       "      <td>-3</td>\n",
       "      <td>-1363</td>\n",
       "      <td>429.345</td>\n",
       "      <td>-4518.345</td>\n",
       "      <td>e-Shop</td>\n",
       "      <td>2</td>\n",
       "      <td>2014</td>\n",
       "      <td>2/2014</td>\n",
       "    </tr>\n",
       "    <tr>\n",
       "      <th>4</th>\n",
       "      <td>51750724947</td>\n",
       "      <td>273420</td>\n",
       "      <td>07/27/92</td>\n",
       "      <td>M</td>\n",
       "      <td>8</td>\n",
       "      <td>2/23/2014</td>\n",
       "      <td>DIY</td>\n",
       "      <td>6</td>\n",
       "      <td>Books</td>\n",
       "      <td>5</td>\n",
       "      <td>-2</td>\n",
       "      <td>-791</td>\n",
       "      <td>166.110</td>\n",
       "      <td>-1748.110</td>\n",
       "      <td>TeleShop</td>\n",
       "      <td>2</td>\n",
       "      <td>2014</td>\n",
       "      <td>2/2014</td>\n",
       "    </tr>\n",
       "  </tbody>\n",
       "</table>\n",
       "</div>"
      ],
      "text/plain": [
       "   transaction_id  cust_id       DOB Gender  city_code  tran_date prod_subcat  \\\n",
       "0     80712190438   270351  09/26/81      M          5  2/28/2014       Women   \n",
       "1     29258453508   270384  11/05/73      F          8  2/27/2014   Computers   \n",
       "2     51750724947   273420  07/27/92      M          8  2/24/2014         DIY   \n",
       "3     93274880719   271509  08/06/81      M          3  2/24/2014    Children   \n",
       "4     51750724947   273420  07/27/92      M          8  2/23/2014         DIY   \n",
       "\n",
       "   prod_subcat_code          prod_cat  prod_cat_code  Qty  Rate      Tax  \\\n",
       "0                 1          Clothing              1   -5  -772  405.300   \n",
       "1                 5       Electronics              3   -5 -1497  785.925   \n",
       "2                 6             Books              5   -2  -791  166.110   \n",
       "3                11  Home and kitchen              6   -3 -1363  429.345   \n",
       "4                 6             Books              5   -2  -791  166.110   \n",
       "\n",
       "   total_amt Store_type  transaction_month  transaction_year transaction_MoYr  \n",
       "0  -4265.300     e-Shop                  2              2014           2/2014  \n",
       "1  -8270.925     e-Shop                  2              2014           2/2014  \n",
       "2  -1748.110   TeleShop                  2              2014           2/2014  \n",
       "3  -4518.345     e-Shop                  2              2014           2/2014  \n",
       "4  -1748.110   TeleShop                  2              2014           2/2014  "
      ]
     },
     "execution_count": 34,
     "metadata": {},
     "output_type": "execute_result"
    }
   ],
   "source": [
    "data[\"transaction_month\"] = month_list\n",
    "data[\"transaction_year\"] = year_list\n",
    "data[\"transaction_MoYr\"] = mo_yr_list\n",
    "\n",
    "data.head()"
   ]
  },
  {
   "cell_type": "code",
   "execution_count": 35,
   "metadata": {},
   "outputs": [
    {
     "data": {
      "text/html": [
       "<div>\n",
       "<style scoped>\n",
       "    .dataframe tbody tr th:only-of-type {\n",
       "        vertical-align: middle;\n",
       "    }\n",
       "\n",
       "    .dataframe tbody tr th {\n",
       "        vertical-align: top;\n",
       "    }\n",
       "\n",
       "    .dataframe thead th {\n",
       "        text-align: right;\n",
       "    }\n",
       "</style>\n",
       "<table border=\"1\" class=\"dataframe\">\n",
       "  <thead>\n",
       "    <tr style=\"text-align: right;\">\n",
       "      <th></th>\n",
       "      <th>transaction_year</th>\n",
       "      <th>transaction_id</th>\n",
       "      <th>cust_id</th>\n",
       "      <th>city_code</th>\n",
       "      <th>prod_subcat_code</th>\n",
       "      <th>prod_cat_code</th>\n",
       "      <th>Qty</th>\n",
       "      <th>Rate</th>\n",
       "      <th>Tax</th>\n",
       "      <th>total_amt</th>\n",
       "      <th>transaction_month</th>\n",
       "    </tr>\n",
       "  </thead>\n",
       "  <tbody>\n",
       "    <tr>\n",
       "      <th>0</th>\n",
       "      <td>2011</td>\n",
       "      <td>6955656991362</td>\n",
       "      <td>38207491</td>\n",
       "      <td>826</td>\n",
       "      <td>977</td>\n",
       "      <td>570</td>\n",
       "      <td>392</td>\n",
       "      <td>107566</td>\n",
       "      <td>34484.310</td>\n",
       "      <td>337307.880</td>\n",
       "      <td>141</td>\n",
       "    </tr>\n",
       "    <tr>\n",
       "      <th>1</th>\n",
       "      <td>2012</td>\n",
       "      <td>29004598917948</td>\n",
       "      <td>162677204</td>\n",
       "      <td>3274</td>\n",
       "      <td>3776</td>\n",
       "      <td>2247</td>\n",
       "      <td>1444</td>\n",
       "      <td>376499</td>\n",
       "      <td>142572.360</td>\n",
       "      <td>1207435.710</td>\n",
       "      <td>600</td>\n",
       "    </tr>\n",
       "    <tr>\n",
       "      <th>2</th>\n",
       "      <td>2013</td>\n",
       "      <td>30174687094233</td>\n",
       "      <td>165346418</td>\n",
       "      <td>3411</td>\n",
       "      <td>3583</td>\n",
       "      <td>2205</td>\n",
       "      <td>1542</td>\n",
       "      <td>419248</td>\n",
       "      <td>158249.070</td>\n",
       "      <td>1378639.990</td>\n",
       "      <td>610</td>\n",
       "    </tr>\n",
       "    <tr>\n",
       "      <th>3</th>\n",
       "      <td>2014</td>\n",
       "      <td>33875526310293</td>\n",
       "      <td>184890241</td>\n",
       "      <td>3799</td>\n",
       "      <td>4096</td>\n",
       "      <td>2563</td>\n",
       "      <td>1683</td>\n",
       "      <td>440995</td>\n",
       "      <td>172305.525</td>\n",
       "      <td>1500564.585</td>\n",
       "      <td>682</td>\n",
       "    </tr>\n",
       "  </tbody>\n",
       "</table>\n",
       "</div>"
      ],
      "text/plain": [
       "   transaction_year  transaction_id    cust_id  city_code  prod_subcat_code  \\\n",
       "0              2011   6955656991362   38207491        826               977   \n",
       "1              2012  29004598917948  162677204       3274              3776   \n",
       "2              2013  30174687094233  165346418       3411              3583   \n",
       "3              2014  33875526310293  184890241       3799              4096   \n",
       "\n",
       "   prod_cat_code   Qty    Rate         Tax    total_amt  transaction_month  \n",
       "0            570   392  107566   34484.310   337307.880                141  \n",
       "1           2247  1444  376499  142572.360  1207435.710                600  \n",
       "2           2205  1542  419248  158249.070  1378639.990                610  \n",
       "3           2563  1683  440995  172305.525  1500564.585                682  "
      ]
     },
     "execution_count": 35,
     "metadata": {},
     "output_type": "execute_result"
    }
   ],
   "source": [
    "data1=data.loc[data['transaction_month']==1]\n",
    "data1=data1.groupby(['transaction_year']).sum()\n",
    "data1= data1.reset_index()\n",
    "data1"
   ]
  },
  {
   "cell_type": "code",
   "execution_count": 36,
   "metadata": {},
   "outputs": [],
   "source": [
    "from sklearn.linear_model import LinearRegression"
   ]
  },
  {
   "cell_type": "code",
   "execution_count": 37,
   "metadata": {},
   "outputs": [],
   "source": [
    "X= data1['transaction_year'].values.reshape(-1,1)\n",
    "y=data1[\"total_amt\"].values.reshape(-1,1)"
   ]
  },
  {
   "cell_type": "code",
   "execution_count": 38,
   "metadata": {},
   "outputs": [
    {
     "data": {
      "text/plain": [
       "<matplotlib.collections.PathCollection at 0x13c7a596608>"
      ]
     },
     "execution_count": 38,
     "metadata": {},
     "output_type": "execute_result"
    },
    {
     "data": {
      "image/png": "[encoded data removed]",
      "text/plain": [
       "<Figure size 432x288 with 1 Axes>"
      ]
     },
     "metadata": {
      "needs_background": "light"
     },
     "output_type": "display_data"
    }
   ],
   "source": [
    "plt.scatter(X,y)"
   ]
  },
  {
   "cell_type": "code",
   "execution_count": 39,
   "metadata": {},
   "outputs": [],
   "source": [
    "months=[1,2,3,4,5,6,7,8,9,10,11,12]"
   ]
  },
  {
   "cell_type": "code",
   "execution_count": 40,
   "metadata": {},
   "outputs": [
    {
     "name": "stdout",
     "output_type": "stream",
     "text": [
      "1/[[2011]\n",
      " [2012]\n",
      " [2013]\n",
      " [2014]]\n",
      "[[ 337307.88 ]\n",
      " [1207435.71 ]\n",
      " [1378639.99 ]\n",
      " [1500564.585]]\n",
      "2/[[2011]\n",
      " [2012]\n",
      " [2013]\n",
      " [2014]]\n",
      "[[1087283.535]\n",
      " [1306702.28 ]\n",
      " [1194731.525]\n",
      " [ 735078.045]]\n",
      "3/[[2011]\n",
      " [2012]\n",
      " [2013]]\n",
      "[[1376537.175]\n",
      " [1440357.555]\n",
      " [1465626.695]]\n",
      "4/[[2011]\n",
      " [2012]\n",
      " [2013]]\n",
      "[[1379838.915]\n",
      " [1212981.705]\n",
      " [1276018.64 ]]\n",
      "5/[[2011]\n",
      " [2012]\n",
      " [2013]]\n",
      "[[1174157.53]\n",
      " [1351045.93]\n",
      " [1286049.83]]\n",
      "6/[[2011]\n",
      " [2012]\n",
      " [2013]]\n",
      "[[1221299.04 ]\n",
      " [1295998.145]\n",
      " [1254308.705]]\n",
      "7/[[2011]\n",
      " [2012]\n",
      " [2013]]\n",
      "[[1309300.135]\n",
      " [1246654.37 ]\n",
      " [1222970.905]]\n",
      "8/[[2011]\n",
      " [2012]\n",
      " [2013]]\n",
      "[[1230637.395]\n",
      " [1321288.28 ]\n",
      " [1397714.5  ]]\n",
      "9/[[2011]\n",
      " [2012]\n",
      " [2013]]\n",
      "[[1437136.48 ]\n",
      " [1317662.775]\n",
      " [1337621.285]]\n",
      "10/[[2011]\n",
      " [2012]\n",
      " [2013]]\n",
      "[[1399860.41 ]\n",
      " [1408005.365]\n",
      " [1368587.805]]\n",
      "11/[[2011]\n",
      " [2012]\n",
      " [2013]]\n",
      "[[1450866.105]\n",
      " [1378302.965]\n",
      " [1269408.53 ]]\n",
      "12/[[2011]\n",
      " [2012]\n",
      " [2013]]\n",
      "[[1327391.195]\n",
      " [1417278.525]\n",
      " [1257120.93 ]]\n"
     ]
    }
   ],
   "source": [
    "for each_month in months:\n",
    "    new_df= data.loc[data['transaction_month']== each_month]\n",
    "    grouped_df= new_df.groupby(['transaction_year']).sum()\n",
    "    grouped_df=grouped_df.reset_index()\n",
    "    \n",
    "    X= grouped_df['transaction_year'].values.reshape(-1,1)\n",
    "    y=grouped_df[\"total_amt\"].values.reshape(-1,1)\n",
    "    \n",
    "    print(f\"{each_month}/{X}\")\n",
    "    print(y)"
   ]
  },
  {
   "cell_type": "code",
   "execution_count": 41,
   "metadata": {},
   "outputs": [
    {
     "data": {
      "image/png": "[encoded data removed]",
      "text/plain": [
       "<Figure size 432x288 with 1 Axes>"
      ]
     },
     "metadata": {
      "needs_background": "light"
     },
     "output_type": "display_data"
    },
    {
     "name": "stdout",
     "output_type": "stream",
     "text": [
      "0.8062371172992567\n"
     ]
    },
    {
     "data": {
      "image/png": "[encoded data removed]",
      "text/plain": [
       "<Figure size 432x288 with 1 Axes>"
      ]
     },
     "metadata": {
      "needs_background": "light"
     },
     "output_type": "display_data"
    },
    {
     "name": "stdout",
     "output_type": "stream",
     "text": [
      "0.3719392346101348\n"
     ]
    },
    {
     "data": {
      "image/png": "[encoded data removed]",
      "text/plain": [
       "<Figure size 432x288 with 1 Axes>"
      ]
     },
     "metadata": {
      "needs_background": "light"
     },
     "output_type": "display_data"
    },
    {
     "name": "stdout",
     "output_type": "stream",
     "text": [
      "0.9412500854566979\n"
     ]
    },
    {
     "data": {
      "image/png": "[encoded data removed]",
      "text/plain": [
       "<Figure size 432x288 with 1 Axes>"
      ]
     },
     "metadata": {
      "needs_background": "light"
     },
     "output_type": "display_data"
    },
    {
     "name": "stdout",
     "output_type": "stream",
     "text": [
      "0.3795866432450473\n"
     ]
    },
    {
     "data": {
      "image/png": "[encoded data removed]",
      "text/plain": [
       "<Figure size 432x288 with 1 Axes>"
      ]
     },
     "metadata": {
      "needs_background": "light"
     },
     "output_type": "display_data"
    },
    {
     "name": "stdout",
     "output_type": "stream",
     "text": [
      "0.3909704546938463\n"
     ]
    },
    {
     "data": {
      "image/png": "[encoded data removed]",
      "text/plain": [
       "<Figure size 432x288 with 1 Axes>"
      ]
     },
     "metadata": {
      "needs_background": "light"
     },
     "output_type": "display_data"
    },
    {
     "name": "stdout",
     "output_type": "stream",
     "text": [
      "0.19440223844682414\n"
     ]
    },
    {
     "data": {
      "image/png": "[encoded data removed]",
      "text/plain": [
       "<Figure size 432x288 with 1 Axes>"
      ]
     },
     "metadata": {
      "needs_background": "light"
     },
     "output_type": "display_data"
    },
    {
     "name": "stdout",
     "output_type": "stream",
     "text": [
      "0.9364196792332128\n"
     ]
    },
    {
     "data": {
      "image/png": "[encoded data removed]",
      "text/plain": [
       "<Figure size 432x288 with 1 Axes>"
      ]
     },
     "metadata": {
      "needs_background": "light"
     },
     "output_type": "display_data"
    },
    {
     "name": "stdout",
     "output_type": "stream",
     "text": [
      "0.997589645671918\n"
     ]
    },
    {
     "data": {
      "image/png": "[encoded data removed]",
      "text/plain": [
       "<Figure size 432x288 with 1 Axes>"
      ]
     },
     "metadata": {
      "needs_background": "light"
     },
     "output_type": "display_data"
    },
    {
     "name": "stdout",
     "output_type": "stream",
     "text": [
      "0.6044581506171789\n"
     ]
    },
    {
     "data": {
      "image/png": "[encoded data removed]",
      "text/plain": [
       "<Figure size 432x288 with 1 Axes>"
      ]
     },
     "metadata": {
      "needs_background": "light"
     },
     "output_type": "display_data"
    },
    {
     "name": "stdout",
     "output_type": "stream",
     "text": [
      "0.5646380951640297\n"
     ]
    },
    {
     "data": {
      "image/png": "[encoded data removed]",
      "text/plain": [
       "<Figure size 432x288 with 1 Axes>"
      ]
     },
     "metadata": {
      "needs_background": "light"
     },
     "output_type": "display_data"
    },
    {
     "name": "stdout",
     "output_type": "stream",
     "text": [
      "0.9868136246604242\n"
     ]
    },
    {
     "data": {
      "image/png": "[encoded data removed]",
      "text/plain": [
       "<Figure size 432x288 with 1 Axes>"
      ]
     },
     "metadata": {
      "needs_background": "light"
     },
     "output_type": "display_data"
    },
    {
     "name": "stdout",
     "output_type": "stream",
     "text": [
      "0.1915497709644088\n"
     ]
    }
   ],
   "source": [
    "for each_month in months:\n",
    "    new_df= data.loc[data['transaction_month']== each_month]\n",
    "    grouped_df= new_df.groupby(['transaction_year']).sum()\n",
    "    grouped_df=grouped_df.reset_index()\n",
    "    \n",
    "    X= grouped_df['transaction_year'].values.reshape(-1,1)\n",
    "    y=grouped_df[\"total_amt\"].values.reshape(-1,1)\n",
    "    \n",
    "    plt.scatter(X,y)\n",
    "    plt.title(f\"Month: {each_month}\")\n",
    "    plt.show()\n",
    "    \n",
    "    model=LinearRegression()\n",
    "    model.fit(X,y)\n",
    "    print(model.score(X,y))"
   ]
  },
  {
   "cell_type": "code",
   "execution_count": null,
   "metadata": {},
   "outputs": [],
   "source": [
    "## Some months observe a linear trend that may be useful for forecasting, but other months\n",
    "## are not linear at all. Maybe there is more predictability if we look at categorical sales by month or sales by store type."
   ]
  }
 ],
 "metadata": {
  "kernelspec": {
   "display_name": "Python 3",
   "language": "python",
   "name": "python3"
  },
  "language_info": {
   "codemirror_mode": {
    "name": "ipython",
    "version": 3
   },
   "file_extension": ".py",
   "mimetype": "text/x-python",
   "name": "python",
   "nbconvert_exporter": "python",
   "pygments_lexer": "ipython3",
   "version": "3.7.6"
  }
 },
 "nbformat": 4,
 "nbformat_minor": 4
}
