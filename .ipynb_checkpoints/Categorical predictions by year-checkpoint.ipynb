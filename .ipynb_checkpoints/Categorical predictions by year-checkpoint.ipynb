{
 "cells": [
  {
   "cell_type": "code",
   "execution_count": 80,
   "metadata": {},
   "outputs": [],
   "source": [
    "import pandas as pd\n",
    "import numpy as np\n",
    "import matplotlib.pyplot as plt\n",
    "from sklearn.linear_model import LinearRegression\n",
    "import datetime"
   ]
  },
  {
   "cell_type": "code",
   "execution_count": 81,
   "metadata": {},
   "outputs": [
    {
     "data": {
      "text/html": [
       "<div>\n",
       "<style scoped>\n",
       "    .dataframe tbody tr th:only-of-type {\n",
       "        vertical-align: middle;\n",
       "    }\n",
       "\n",
       "    .dataframe tbody tr th {\n",
       "        vertical-align: top;\n",
       "    }\n",
       "\n",
       "    .dataframe thead th {\n",
       "        text-align: right;\n",
       "    }\n",
       "</style>\n",
       "<table border=\"1\" class=\"dataframe\">\n",
       "  <thead>\n",
       "    <tr style=\"text-align: right;\">\n",
       "      <th></th>\n",
       "      <th>transaction_id</th>\n",
       "      <th>cust_id</th>\n",
       "      <th>DOB</th>\n",
       "      <th>Gender</th>\n",
       "      <th>city_code</th>\n",
       "      <th>tran_date</th>\n",
       "      <th>prod_subcat</th>\n",
       "      <th>prod_subcat_code</th>\n",
       "      <th>prod_cat</th>\n",
       "      <th>prod_cat_code</th>\n",
       "      <th>...</th>\n",
       "      <th>Rate</th>\n",
       "      <th>Tax</th>\n",
       "      <th>total_amt</th>\n",
       "      <th>Store_type</th>\n",
       "      <th>Unnamed: 15</th>\n",
       "      <th>Unnamed: 16</th>\n",
       "      <th>Unnamed: 17</th>\n",
       "      <th>Unnamed: 18</th>\n",
       "      <th>Unnamed: 19</th>\n",
       "      <th>Unnamed: 20</th>\n",
       "    </tr>\n",
       "  </thead>\n",
       "  <tbody>\n",
       "    <tr>\n",
       "      <th>0</th>\n",
       "      <td>80712190438</td>\n",
       "      <td>270351</td>\n",
       "      <td>09/26/81</td>\n",
       "      <td>M</td>\n",
       "      <td>5</td>\n",
       "      <td>2/28/2014</td>\n",
       "      <td>Women</td>\n",
       "      <td>1</td>\n",
       "      <td>Clothing</td>\n",
       "      <td>1</td>\n",
       "      <td>...</td>\n",
       "      <td>-772</td>\n",
       "      <td>405.300</td>\n",
       "      <td>-4265.300</td>\n",
       "      <td>e-Shop</td>\n",
       "      <td>NaN</td>\n",
       "      <td>NaN</td>\n",
       "      <td>NaN</td>\n",
       "      <td>NaN</td>\n",
       "      <td>NaN</td>\n",
       "      <td>NaN</td>\n",
       "    </tr>\n",
       "    <tr>\n",
       "      <th>1</th>\n",
       "      <td>29258453508</td>\n",
       "      <td>270384</td>\n",
       "      <td>11/05/73</td>\n",
       "      <td>F</td>\n",
       "      <td>8</td>\n",
       "      <td>2/27/2014</td>\n",
       "      <td>Computers</td>\n",
       "      <td>5</td>\n",
       "      <td>Electronics</td>\n",
       "      <td>3</td>\n",
       "      <td>...</td>\n",
       "      <td>-1497</td>\n",
       "      <td>785.925</td>\n",
       "      <td>-8270.925</td>\n",
       "      <td>e-Shop</td>\n",
       "      <td>NaN</td>\n",
       "      <td>NaN</td>\n",
       "      <td>NaN</td>\n",
       "      <td>NaN</td>\n",
       "      <td>NaN</td>\n",
       "      <td>NaN</td>\n",
       "    </tr>\n",
       "    <tr>\n",
       "      <th>2</th>\n",
       "      <td>51750724947</td>\n",
       "      <td>273420</td>\n",
       "      <td>07/27/92</td>\n",
       "      <td>M</td>\n",
       "      <td>8</td>\n",
       "      <td>2/24/2014</td>\n",
       "      <td>DIY</td>\n",
       "      <td>6</td>\n",
       "      <td>Books</td>\n",
       "      <td>5</td>\n",
       "      <td>...</td>\n",
       "      <td>-791</td>\n",
       "      <td>166.110</td>\n",
       "      <td>-1748.110</td>\n",
       "      <td>TeleShop</td>\n",
       "      <td>NaN</td>\n",
       "      <td>NaN</td>\n",
       "      <td>NaN</td>\n",
       "      <td>NaN</td>\n",
       "      <td>NaN</td>\n",
       "      <td>NaN</td>\n",
       "    </tr>\n",
       "    <tr>\n",
       "      <th>3</th>\n",
       "      <td>93274880719</td>\n",
       "      <td>271509</td>\n",
       "      <td>08/06/81</td>\n",
       "      <td>M</td>\n",
       "      <td>3</td>\n",
       "      <td>2/24/2014</td>\n",
       "      <td>Children</td>\n",
       "      <td>11</td>\n",
       "      <td>Home and kitchen</td>\n",
       "      <td>6</td>\n",
       "      <td>...</td>\n",
       "      <td>-1363</td>\n",
       "      <td>429.345</td>\n",
       "      <td>-4518.345</td>\n",
       "      <td>e-Shop</td>\n",
       "      <td>NaN</td>\n",
       "      <td>NaN</td>\n",
       "      <td>NaN</td>\n",
       "      <td>NaN</td>\n",
       "      <td>NaN</td>\n",
       "      <td>NaN</td>\n",
       "    </tr>\n",
       "    <tr>\n",
       "      <th>4</th>\n",
       "      <td>51750724947</td>\n",
       "      <td>273420</td>\n",
       "      <td>07/27/92</td>\n",
       "      <td>M</td>\n",
       "      <td>8</td>\n",
       "      <td>2/23/2014</td>\n",
       "      <td>DIY</td>\n",
       "      <td>6</td>\n",
       "      <td>Books</td>\n",
       "      <td>5</td>\n",
       "      <td>...</td>\n",
       "      <td>-791</td>\n",
       "      <td>166.110</td>\n",
       "      <td>-1748.110</td>\n",
       "      <td>TeleShop</td>\n",
       "      <td>NaN</td>\n",
       "      <td>NaN</td>\n",
       "      <td>NaN</td>\n",
       "      <td>NaN</td>\n",
       "      <td>NaN</td>\n",
       "      <td>NaN</td>\n",
       "    </tr>\n",
       "  </tbody>\n",
       "</table>\n",
       "<p>5 rows × 21 columns</p>\n",
       "</div>"
      ],
      "text/plain": [
       "   transaction_id  cust_id       DOB Gender  city_code  tran_date prod_subcat  \\\n",
       "0     80712190438   270351  09/26/81      M          5  2/28/2014       Women   \n",
       "1     29258453508   270384  11/05/73      F          8  2/27/2014   Computers   \n",
       "2     51750724947   273420  07/27/92      M          8  2/24/2014         DIY   \n",
       "3     93274880719   271509  08/06/81      M          3  2/24/2014    Children   \n",
       "4     51750724947   273420  07/27/92      M          8  2/23/2014         DIY   \n",
       "\n",
       "   prod_subcat_code          prod_cat  prod_cat_code  ...  Rate      Tax  \\\n",
       "0                 1          Clothing              1  ...  -772  405.300   \n",
       "1                 5       Electronics              3  ... -1497  785.925   \n",
       "2                 6             Books              5  ...  -791  166.110   \n",
       "3                11  Home and kitchen              6  ... -1363  429.345   \n",
       "4                 6             Books              5  ...  -791  166.110   \n",
       "\n",
       "   total_amt  Store_type Unnamed: 15  Unnamed: 16  Unnamed: 17  Unnamed: 18  \\\n",
       "0  -4265.300      e-Shop         NaN          NaN          NaN          NaN   \n",
       "1  -8270.925      e-Shop         NaN          NaN          NaN          NaN   \n",
       "2  -1748.110    TeleShop         NaN          NaN          NaN          NaN   \n",
       "3  -4518.345      e-Shop         NaN          NaN          NaN          NaN   \n",
       "4  -1748.110    TeleShop         NaN          NaN          NaN          NaN   \n",
       "\n",
       "   Unnamed: 19  Unnamed: 20  \n",
       "0          NaN          NaN  \n",
       "1          NaN          NaN  \n",
       "2          NaN          NaN  \n",
       "3          NaN          NaN  \n",
       "4          NaN          NaN  \n",
       "\n",
       "[5 rows x 21 columns]"
      ]
     },
     "execution_count": 81,
     "metadata": {},
     "output_type": "execute_result"
    }
   ],
   "source": [
    "data= pd.read_csv(\"../turning_patterns_into_profits/Data/Transactions_all_data.csv\")\n",
    "\n",
    "data.head()"
   ]
  },
  {
   "cell_type": "code",
   "execution_count": 82,
   "metadata": {},
   "outputs": [],
   "source": [
    "data.drop([\"Unnamed: 15\", \"Unnamed: 16\", \"Unnamed: 17\", \"Unnamed: 18\", \"Unnamed: 19\", \"Unnamed: 20\"], axis=1, inplace=True)"
   ]
  },
  {
   "cell_type": "code",
   "execution_count": 83,
   "metadata": {},
   "outputs": [],
   "source": [
    "month_list=[]\n",
    "year_list=[]\n",
    "mo_yr_list=[]\n",
    "\n",
    "for each_date in data['tran_date']:\n",
    "    date= datetime.datetime.strptime(str(each_date), \"%m/%d/%Y\")\n",
    "    month_list.append(date.month)\n",
    "    year_list.append(date.year)\n",
    "    mo_yr_list.append(f\"{date.month}/{date.year}\")"
   ]
  },
  {
   "cell_type": "code",
   "execution_count": 84,
   "metadata": {},
   "outputs": [
    {
     "data": {
      "text/html": [
       "<div>\n",
       "<style scoped>\n",
       "    .dataframe tbody tr th:only-of-type {\n",
       "        vertical-align: middle;\n",
       "    }\n",
       "\n",
       "    .dataframe tbody tr th {\n",
       "        vertical-align: top;\n",
       "    }\n",
       "\n",
       "    .dataframe thead th {\n",
       "        text-align: right;\n",
       "    }\n",
       "</style>\n",
       "<table border=\"1\" class=\"dataframe\">\n",
       "  <thead>\n",
       "    <tr style=\"text-align: right;\">\n",
       "      <th></th>\n",
       "      <th>transaction_id</th>\n",
       "      <th>cust_id</th>\n",
       "      <th>DOB</th>\n",
       "      <th>Gender</th>\n",
       "      <th>city_code</th>\n",
       "      <th>tran_date</th>\n",
       "      <th>prod_subcat</th>\n",
       "      <th>prod_subcat_code</th>\n",
       "      <th>prod_cat</th>\n",
       "      <th>prod_cat_code</th>\n",
       "      <th>Qty</th>\n",
       "      <th>Rate</th>\n",
       "      <th>Tax</th>\n",
       "      <th>total_amt</th>\n",
       "      <th>Store_type</th>\n",
       "      <th>transaction_month</th>\n",
       "      <th>transaction_year</th>\n",
       "      <th>transaction_MoYr</th>\n",
       "    </tr>\n",
       "  </thead>\n",
       "  <tbody>\n",
       "    <tr>\n",
       "      <th>0</th>\n",
       "      <td>80712190438</td>\n",
       "      <td>270351</td>\n",
       "      <td>09/26/81</td>\n",
       "      <td>M</td>\n",
       "      <td>5</td>\n",
       "      <td>2/28/2014</td>\n",
       "      <td>Women</td>\n",
       "      <td>1</td>\n",
       "      <td>Clothing</td>\n",
       "      <td>1</td>\n",
       "      <td>-5</td>\n",
       "      <td>-772</td>\n",
       "      <td>405.300</td>\n",
       "      <td>-4265.300</td>\n",
       "      <td>e-Shop</td>\n",
       "      <td>2</td>\n",
       "      <td>2014</td>\n",
       "      <td>2/2014</td>\n",
       "    </tr>\n",
       "    <tr>\n",
       "      <th>1</th>\n",
       "      <td>29258453508</td>\n",
       "      <td>270384</td>\n",
       "      <td>11/05/73</td>\n",
       "      <td>F</td>\n",
       "      <td>8</td>\n",
       "      <td>2/27/2014</td>\n",
       "      <td>Computers</td>\n",
       "      <td>5</td>\n",
       "      <td>Electronics</td>\n",
       "      <td>3</td>\n",
       "      <td>-5</td>\n",
       "      <td>-1497</td>\n",
       "      <td>785.925</td>\n",
       "      <td>-8270.925</td>\n",
       "      <td>e-Shop</td>\n",
       "      <td>2</td>\n",
       "      <td>2014</td>\n",
       "      <td>2/2014</td>\n",
       "    </tr>\n",
       "    <tr>\n",
       "      <th>2</th>\n",
       "      <td>51750724947</td>\n",
       "      <td>273420</td>\n",
       "      <td>07/27/92</td>\n",
       "      <td>M</td>\n",
       "      <td>8</td>\n",
       "      <td>2/24/2014</td>\n",
       "      <td>DIY</td>\n",
       "      <td>6</td>\n",
       "      <td>Books</td>\n",
       "      <td>5</td>\n",
       "      <td>-2</td>\n",
       "      <td>-791</td>\n",
       "      <td>166.110</td>\n",
       "      <td>-1748.110</td>\n",
       "      <td>TeleShop</td>\n",
       "      <td>2</td>\n",
       "      <td>2014</td>\n",
       "      <td>2/2014</td>\n",
       "    </tr>\n",
       "    <tr>\n",
       "      <th>3</th>\n",
       "      <td>93274880719</td>\n",
       "      <td>271509</td>\n",
       "      <td>08/06/81</td>\n",
       "      <td>M</td>\n",
       "      <td>3</td>\n",
       "      <td>2/24/2014</td>\n",
       "      <td>Children</td>\n",
       "      <td>11</td>\n",
       "      <td>Home and kitchen</td>\n",
       "      <td>6</td>\n",
       "      <td>-3</td>\n",
       "      <td>-1363</td>\n",
       "      <td>429.345</td>\n",
       "      <td>-4518.345</td>\n",
       "      <td>e-Shop</td>\n",
       "      <td>2</td>\n",
       "      <td>2014</td>\n",
       "      <td>2/2014</td>\n",
       "    </tr>\n",
       "    <tr>\n",
       "      <th>4</th>\n",
       "      <td>51750724947</td>\n",
       "      <td>273420</td>\n",
       "      <td>07/27/92</td>\n",
       "      <td>M</td>\n",
       "      <td>8</td>\n",
       "      <td>2/23/2014</td>\n",
       "      <td>DIY</td>\n",
       "      <td>6</td>\n",
       "      <td>Books</td>\n",
       "      <td>5</td>\n",
       "      <td>-2</td>\n",
       "      <td>-791</td>\n",
       "      <td>166.110</td>\n",
       "      <td>-1748.110</td>\n",
       "      <td>TeleShop</td>\n",
       "      <td>2</td>\n",
       "      <td>2014</td>\n",
       "      <td>2/2014</td>\n",
       "    </tr>\n",
       "  </tbody>\n",
       "</table>\n",
       "</div>"
      ],
      "text/plain": [
       "   transaction_id  cust_id       DOB Gender  city_code  tran_date prod_subcat  \\\n",
       "0     80712190438   270351  09/26/81      M          5  2/28/2014       Women   \n",
       "1     29258453508   270384  11/05/73      F          8  2/27/2014   Computers   \n",
       "2     51750724947   273420  07/27/92      M          8  2/24/2014         DIY   \n",
       "3     93274880719   271509  08/06/81      M          3  2/24/2014    Children   \n",
       "4     51750724947   273420  07/27/92      M          8  2/23/2014         DIY   \n",
       "\n",
       "   prod_subcat_code          prod_cat  prod_cat_code  Qty  Rate      Tax  \\\n",
       "0                 1          Clothing              1   -5  -772  405.300   \n",
       "1                 5       Electronics              3   -5 -1497  785.925   \n",
       "2                 6             Books              5   -2  -791  166.110   \n",
       "3                11  Home and kitchen              6   -3 -1363  429.345   \n",
       "4                 6             Books              5   -2  -791  166.110   \n",
       "\n",
       "   total_amt Store_type  transaction_month  transaction_year transaction_MoYr  \n",
       "0  -4265.300     e-Shop                  2              2014           2/2014  \n",
       "1  -8270.925     e-Shop                  2              2014           2/2014  \n",
       "2  -1748.110   TeleShop                  2              2014           2/2014  \n",
       "3  -4518.345     e-Shop                  2              2014           2/2014  \n",
       "4  -1748.110   TeleShop                  2              2014           2/2014  "
      ]
     },
     "execution_count": 84,
     "metadata": {},
     "output_type": "execute_result"
    }
   ],
   "source": [
    "data[\"transaction_month\"] = month_list\n",
    "data[\"transaction_year\"] = year_list\n",
    "data[\"transaction_MoYr\"] = mo_yr_list\n",
    "\n",
    "data.head()"
   ]
  },
  {
   "cell_type": "code",
   "execution_count": null,
   "metadata": {},
   "outputs": [],
   "source": [
    "### create column with product_id  which is a concatenation of cat and subcat\n",
    "cust_id | age | gender | 1-1, 5-3, 6-5\n",
    "cust_id | age | gender | 1-1, 5-3\n",
    "\n",
    "### create algorithm to see what items are returned and by who\n"
   ]
  },
  {
   "cell_type": "code",
   "execution_count": 85,
   "metadata": {},
   "outputs": [
    {
     "data": {
      "text/html": [
       "<div>\n",
       "<style scoped>\n",
       "    .dataframe tbody tr th:only-of-type {\n",
       "        vertical-align: middle;\n",
       "    }\n",
       "\n",
       "    .dataframe tbody tr th {\n",
       "        vertical-align: top;\n",
       "    }\n",
       "\n",
       "    .dataframe thead th {\n",
       "        text-align: right;\n",
       "    }\n",
       "</style>\n",
       "<table border=\"1\" class=\"dataframe\">\n",
       "  <thead>\n",
       "    <tr style=\"text-align: right;\">\n",
       "      <th></th>\n",
       "      <th>transaction_year</th>\n",
       "      <th>transaction_id</th>\n",
       "      <th>cust_id</th>\n",
       "      <th>city_code</th>\n",
       "      <th>prod_subcat_code</th>\n",
       "      <th>prod_cat_code</th>\n",
       "      <th>Qty</th>\n",
       "      <th>Rate</th>\n",
       "      <th>Tax</th>\n",
       "      <th>total_amt</th>\n",
       "      <th>transaction_month</th>\n",
       "    </tr>\n",
       "  </thead>\n",
       "  <tbody>\n",
       "    <tr>\n",
       "      <th>0</th>\n",
       "      <td>2011</td>\n",
       "      <td>43649520636969</td>\n",
       "      <td>227698183</td>\n",
       "      <td>4622</td>\n",
       "      <td>2250</td>\n",
       "      <td>840</td>\n",
       "      <td>2066</td>\n",
       "      <td>531911</td>\n",
       "      <td>214565.925</td>\n",
       "      <td>1775218.965</td>\n",
       "      <td>6065</td>\n",
       "    </tr>\n",
       "    <tr>\n",
       "      <th>1</th>\n",
       "      <td>2012</td>\n",
       "      <td>46998232046677</td>\n",
       "      <td>256452022</td>\n",
       "      <td>5212</td>\n",
       "      <td>2503</td>\n",
       "      <td>946</td>\n",
       "      <td>2325</td>\n",
       "      <td>601847</td>\n",
       "      <td>241352.370</td>\n",
       "      <td>2064051.600</td>\n",
       "      <td>6225</td>\n",
       "    </tr>\n",
       "    <tr>\n",
       "      <th>2</th>\n",
       "      <td>2013</td>\n",
       "      <td>49045220994897</td>\n",
       "      <td>274213378</td>\n",
       "      <td>5571</td>\n",
       "      <td>2659</td>\n",
       "      <td>1012</td>\n",
       "      <td>2435</td>\n",
       "      <td>648198</td>\n",
       "      <td>254180.430</td>\n",
       "      <td>2100717.710</td>\n",
       "      <td>6640</td>\n",
       "    </tr>\n",
       "    <tr>\n",
       "      <th>3</th>\n",
       "      <td>2014</td>\n",
       "      <td>8768414477824</td>\n",
       "      <td>43930700</td>\n",
       "      <td>882</td>\n",
       "      <td>425</td>\n",
       "      <td>162</td>\n",
       "      <td>348</td>\n",
       "      <td>98027</td>\n",
       "      <td>40376.385</td>\n",
       "      <td>311149.215</td>\n",
       "      <td>215</td>\n",
       "    </tr>\n",
       "  </tbody>\n",
       "</table>\n",
       "</div>"
      ],
      "text/plain": [
       "   transaction_year  transaction_id    cust_id  city_code  prod_subcat_code  \\\n",
       "0              2011  43649520636969  227698183       4622              2250   \n",
       "1              2012  46998232046677  256452022       5212              2503   \n",
       "2              2013  49045220994897  274213378       5571              2659   \n",
       "3              2014   8768414477824   43930700        882               425   \n",
       "\n",
       "   prod_cat_code   Qty    Rate         Tax    total_amt  transaction_month  \n",
       "0            840  2066  531911  214565.925  1775218.965               6065  \n",
       "1            946  2325  601847  241352.370  2064051.600               6225  \n",
       "2           1012  2435  648198  254180.430  2100717.710               6640  \n",
       "3            162   348   98027   40376.385   311149.215                215  "
      ]
     },
     "execution_count": 85,
     "metadata": {},
     "output_type": "execute_result"
    }
   ],
   "source": [
    "##  create a df to use to plot category 1 total_amts by year.\n",
    "## Look for trend in a single category rising every year\n",
    "\n",
    "data1= data.loc[data[\"prod_cat_code\"]==1]\n",
    "data1=data1.groupby(['transaction_year']).sum()\n",
    "data1=data1.reset_index()\n",
    "data1.head()"
   ]
  },
  {
   "cell_type": "code",
   "execution_count": 92,
   "metadata": {
    "scrolled": false
   },
   "outputs": [
    {
     "data": {
      "image/png": "[encoded data removed]",
      "text/plain": [
       "<Figure size 432x288 with 1 Axes>"
      ]
     },
     "metadata": {
      "needs_background": "light"
     },
     "output_type": "display_data"
    },
    {
     "name": "stdout",
     "output_type": "stream",
     "text": [
      "Model Score: 0.8332933604405848    2014 Predicted Sales: [[2305494.83666658]]\n"
     ]
    },
    {
     "data": {
      "image/png": "[encoded data removed]",
      "text/plain": [
       "<Figure size 432x288 with 1 Axes>"
      ]
     },
     "metadata": {
      "needs_background": "light"
     },
     "output_type": "display_data"
    },
    {
     "name": "stdout",
     "output_type": "stream",
     "text": [
      "Model Score: 0.15306693815041217    2014 Predicted Sales: [[2111854.26833332]]\n"
     ]
    },
    {
     "data": {
      "image/png": "[encoded data removed]",
      "text/plain": [
       "<Figure size 432x288 with 1 Axes>"
      ]
     },
     "metadata": {
      "needs_background": "light"
     },
     "output_type": "display_data"
    },
    {
     "name": "stdout",
     "output_type": "stream",
     "text": [
      "Model Score: 0.6760901495014243    2014 Predicted Sales: [[3632442.92666668]]\n"
     ]
    },
    {
     "data": {
      "image/png": "[encoded data removed]",
      "text/plain": [
       "<Figure size 432x288 with 1 Axes>"
      ]
     },
     "metadata": {
      "needs_background": "light"
     },
     "output_type": "display_data"
    },
    {
     "name": "stdout",
     "output_type": "stream",
     "text": [
      "Model Score: 0.7790177511609053    2014 Predicted Sales: [[1393593.955]]\n"
     ]
    },
    {
     "data": {
      "image/png": "[encoded data removed]",
      "text/plain": [
       "<Figure size 432x288 with 1 Axes>"
      ]
     },
     "metadata": {
      "needs_background": "light"
     },
     "output_type": "display_data"
    },
    {
     "name": "stdout",
     "output_type": "stream",
     "text": [
      "Model Score: 3.7928102906703565e-05    2014 Predicted Sales: [[4077185.16833333]]\n"
     ]
    },
    {
     "data": {
      "image/png": "[encoded data removed]",
      "text/plain": [
       "<Figure size 432x288 with 1 Axes>"
      ]
     },
     "metadata": {
      "needs_background": "light"
     },
     "output_type": "display_data"
    },
    {
     "name": "stdout",
     "output_type": "stream",
     "text": [
      "Model Score: 0.893943047052628    2014 Predicted Sales: [[2904655.30333334]]\n"
     ]
    }
   ],
   "source": [
    "categories=[1,2,3,4,5,6]\n",
    "\n",
    "for each_category in categories:\n",
    "    data1=data.loc[data['prod_cat_code']== each_category]\n",
    "    data1=data1.groupby(['transaction_year']).sum()\n",
    "    data1=data1.reset_index()\n",
    "    data1=data1.drop(3)\n",
    "    \n",
    "    X=data1['transaction_year'].values.reshape(-1,1)\n",
    "    y=data1['total_amt'].values.reshape(-1,1)\n",
    "    \n",
    "    plt.plot(X,y)\n",
    "    plt.title(f\"Category: {each_category}\")\n",
    "    plt.show()\n",
    "    \n",
    "    model=LinearRegression()\n",
    "    model.fit(X,y)\n",
    "    Score=model.score(X,y)\n",
    "    prediction=model.predict([[2014]])\n",
    "    \n",
    "    print(f\"Model Score: {Score}    2014 Predicted Sales: {prediction}\")"
   ]
  },
  {
   "cell_type": "code",
   "execution_count": null,
   "metadata": {},
   "outputs": [],
   "source": [
    "## 2014 has only 2 months of sales.\n",
    "## Overall sales are fairly even from year to year, but cannot be predicted by month. \n",
    "## Therefore weekly data will not be useful either."
   ]
  }
 ],
 "metadata": {
  "kernelspec": {
   "display_name": "Python 3",
   "language": "python",
   "name": "python3"
  },
  "language_info": {
   "codemirror_mode": {
    "name": "ipython",
    "version": 3
   },
   "file_extension": ".py",
   "mimetype": "text/x-python",
   "name": "python",
   "nbconvert_exporter": "python",
   "pygments_lexer": "ipython3",
   "version": "3.7.6"
  }
 },
 "nbformat": 4,
 "nbformat_minor": 4
}
